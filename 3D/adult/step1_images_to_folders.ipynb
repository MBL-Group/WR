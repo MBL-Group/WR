{
    "cells": [
        {
            "cell_type": "code",
            "execution_count": null,
            "metadata": {},
            "outputs": [],
            "source": [
                "import numpy as np\n",
                "import cv2\n",
                "import os\n",
                "import shutil\n",
                "import traceback\n",
                " \n",
                "all_images_folder = './N2-adults-50um_624_YA'\n",
                "\n",
                "file_list = os.listdir(all_images_folder)\n",
                "\n",
                "print(file_list)\n",
                "\n",
                "folder = \"N2-adults-50um-SRx5-split-folders\"\n",
                "\n",
                "try:\n",
                "    os.makedirs(folder)\n",
                "    print(f\"Folder '{folder}' created successfully.\")\n",
                "except FileExistsError:\n",
                "    print(f\"Folder '{folder}' already exists.\")   "
            ]
        },
        {
            "cell_type": "code",
            "execution_count": null,
            "metadata": {},
            "outputs": [],
            "source": [
                "def move_file(src_path, dst_path, file):\n",
                "    try:\n",
                "        f_src = os.path.join(src_path, file)\n",
                "        if not os.path.exists(dst_path):\n",
                "            os.mkdir(dst_path)\n",
                "        f_dst = os.path.join(dst_path, file)\n",
                "        shutil.move(f_src, f_dst)\n",
                "    except Exception as e:\n",
                "        print ('move_file ERROR: ',e)\n",
                "        traceback.print_exc()"
            ]
        },
        {
            "cell_type": "code",
            "execution_count": null,
            "metadata": {},
            "outputs": [],
            "source": [
                "for file_name in file_list:\n",
                "\n",
                "    if file_name.endswith('.png'):\n",
                "        \n",
                "        file_name_split = file_name.split('trimmed')\n",
                "\n",
                "        foler_name = folder + '/' + file_name_split[0]\n",
                "\n",
                "        move_file(all_images_folder,foler_name,file_name)\n"
            ]
        },
        {
            "cell_type": "code",
            "execution_count": null,
            "metadata": {},
            "outputs": [],
            "source": []
        }
    ],
    "metadata": {
        "kernelspec": {
            "display_name": "paddlepaddle",
            "language": "python",
            "name": "python3"
        },
        "language_info": {
            "codemirror_mode": {
                "name": "ipython",
                "version": 3
            },
            "file_extension": ".py",
            "mimetype": "text/x-python",
            "name": "python",
            "nbconvert_exporter": "python",
            "pygments_lexer": "ipython3",
            "version": "3.9.7"
        },
        "orig_nbformat": 4,
        "vscode": {
            "interpreter": {
                "hash": "02ed89bf9b26ebe2cb927df4938b9da8ccb0ec1ba8a387f05a4701f5ca1362ff"
            }
        }
    },
    "nbformat": 4,
    "nbformat_minor": 2
}