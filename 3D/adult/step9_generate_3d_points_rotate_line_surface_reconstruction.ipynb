{
    "cells": [
        {
            "cell_type": "code",
            "execution_count": null,
            "metadata": {},
            "outputs": [],
            "source": [
                "import numpy as np\n",
                "import cv2\n",
                "import os\n",
                "\n",
                "\n",
                "images_folder_with_fix_tail = \"./N2-adults-50um-SRx5-fix-tail-crop-images-correct-angle-folders\"\n",
                "images_folder = './N2-adults-50um-SRx5-crop-images-correct-angle-folders'\n",
                "\n",
                "seg_folder_with_fix_tail = \"./N2-adults-50um-SRx5-fix-tail-crop-seg-correct-angle-folders\"\n",
                "seg_folder = './N2-adults-50um-SRx5-crop-seg-correct-angle-folders'\n",
                "\n",
                "\n",
                "sub_folders = os.listdir(images_folder)\n",
                "\n",
                "print(sub_folders)\n",
                "\n",
                "pointcloud_folder = \"N2-adults-50um-SRx5-3D-pointcloud\"\n"
            ]
        },
        {
            "cell_type": "code",
            "execution_count": null,
            "metadata": {},
            "outputs": [],
            "source": [
                "\n",
                "\n",
                "import math\n",
                "import open3d as o3d\n",
                "from copy import deepcopy\n",
                "\n",
                "\n",
                "for sub_folder in sub_folders:\n",
                "\n",
                "\n",
                "    \n",
                "    \n",
                "    print(sub_folder)\n",
                "\n",
                "    file_name = pointcloud_folder+'/'+sub_folder+'/best_iou_after_offset.pcd'\n",
                "\n",
                "\n",
                "    pcd = o3d.io.read_point_cloud(file_name)\n",
                "    pcd.paint_uniform_color([1,1,1])\n",
                "\n",
                "    pcd.estimate_normals()\n",
                "\n",
                "    pcd.orient_normals_consistent_tangent_plane(100)\n",
                "\n",
                "    with o3d.utility.VerbosityContextManager(\n",
                "            o3d.utility.VerbosityLevel.Debug) as cm:\n",
                "        mesh, densities = o3d.geometry.TriangleMesh.create_from_point_cloud_poisson(\n",
                "            pcd, depth=9)\n",
                "\n",
                "    file_name = file_name.replace('.pcd','_surface.ply')\n",
                "\n",
                "    o3d.io.write_triangle_mesh(file_name, mesh)\n"
            ]
        },
        {
            "cell_type": "code",
            "execution_count": 2,
            "metadata": {},
            "outputs": [
                {
                    "name": "stdout",
                    "output_type": "stream",
                    "text": [
                        "Jupyter environment detected. Enabling Open3D WebVisualizer.\n",
                        "[Open3D INFO] WebRTC GUI backend enabled.\n",
                        "[Open3D INFO] WebRTCWindowSystem: HTTP handshake server disabled.\n",
                        "2nd_\n",
                        "[Open3D DEBUG] Input Points / Samples: 558569 / 2371\n",
                        "[Open3D DEBUG] #   Got kernel density: 0.00199986 (s), 175.891 (MB) / 175.891 (MB) / 2715 (MB)\n",
                        "[Open3D DEBUG] #     Got normal field: 0.00500011 (s), 176.938 (MB) / 176.938 (MB) / 2715 (MB)\n",
                        "[Open3D DEBUG] Point weight / Estimated Area: 2.802858e-07 / 1.565590e-01\n",
                        "[Open3D DEBUG] #       Finalized tree: 0.0179999 (s), 182.004 (MB) / 182.004 (MB) / 2715 (MB)\n",
                        "[Open3D DEBUG] #  Set FEM constraints: 0.026 (s), 182.391 (MB) / 182.391 (MB) / 2715 (MB)\n",
                        "[Open3D DEBUG] #Set point constraints: 0.00300002 (s), 182.43 (MB) / 182.43 (MB) / 2715 (MB)\n",
                        "[Open3D DEBUG] Leaf Nodes / Active Nodes / Ghost Nodes: 72367 / 82704 / 1\n",
                        "[Open3D DEBUG] Memory Usage: 182.430 MB\n",
                        "[Open3D DEBUG] # Linear system solved: 0.099 (s), 186.438 (MB) / 186.438 (MB) / 2715 (MB)\n",
                        "[Open3D DEBUG] Got average: 0.00300002 (s), 180.195 (MB) / 186.438 (MB) / 2715 (MB)\n",
                        "[Open3D DEBUG] Iso-Value: 5.294232e-01 = 2.957194e+05 / 5.585690e+05\n",
                        "[Open3D DEBUG] #          Total Solve:       0.4 (s),     195.2 (MB)\n",
                        "[Open3D WARNING] Write Ply clamped color value to valid range\n"
                    ]
                }
            ],
            "source": [
                "\n",
                "\n",
                "import math\n",
                "import open3d as o3d\n",
                "from copy import deepcopy\n",
                "\n",
                "\n",
                "for sub_folder in sub_folders:\n",
                "\n",
                "    \n",
                "    \n",
                "    print(sub_folder)\n",
                "\n",
                "    file_name = pointcloud_folder+'/'+sub_folder+'/best_iou_after_offset.pcd'\n",
                "\n",
                "\n",
                "    pcd = o3d.io.read_point_cloud(file_name)\n",
                "\n",
                "\n",
                "    cl,index = pcd.remove_statistical_outlier(nb_neighbors = 50,std_ratio= 1.0)\n",
                "    pcd = pcd.select_by_index(index)\n",
                "\n",
                "    pcd.paint_uniform_color([1,1,1])\n",
                "\n",
                "\n",
                "    pcd.estimate_normals()\n",
                "\n",
                "    pcd.orient_normals_consistent_tangent_plane(100)\n",
                "\n",
                "    with o3d.utility.VerbosityContextManager(\n",
                "            o3d.utility.VerbosityLevel.Debug) as cm:\n",
                "        mesh, densities = o3d.geometry.TriangleMesh.create_from_point_cloud_poisson(\n",
                "            pcd, depth=9)\n",
                "\n",
                "    file_name = file_name.replace('.pcd','_filter_surface.ply')\n",
                "    o3d.io.write_triangle_mesh(file_name, mesh)\n"
            ]
        },
        {
            "cell_type": "code",
            "execution_count": null,
            "metadata": {},
            "outputs": [],
            "source": [
                "\n",
                "\n",
                "import math\n",
                "import open3d as o3d\n",
                "from copy import deepcopy\n",
                "\n",
                "\n",
                "for sub_folder in sub_folders:\n",
                "\n",
                "    \n",
                "    \n",
                "    print(sub_folder)\n",
                "\n",
                "    file_name = pointcloud_folder+'/'+sub_folder+'/cloud_centerline_tietu.ply'\n",
                "\n",
                "    pcd = o3d.io.read_point_cloud(file_name)\n",
                "\n",
                "    cl,index = pcd.remove_statistical_outlier(nb_neighbors = 50,std_ratio= 1.0)\n",
                "    pcd = pcd.select_by_index(index)\n",
                "\n",
                "    \n",
                "\n",
                "    pcd.estimate_normals()\n",
                "\n",
                "    pcd.orient_normals_consistent_tangent_plane(100)\n",
                "\n",
                "    with o3d.utility.VerbosityContextManager(\n",
                "            o3d.utility.VerbosityLevel.Debug) as cm:\n",
                "        mesh, densities = o3d.geometry.TriangleMesh.create_from_point_cloud_poisson(\n",
                "            pcd, depth=9)\n",
                "\n",
                "    file_name = file_name.replace('.ply','_filter_surface.ply')\n",
                "    o3d.io.write_triangle_mesh(file_name, mesh)\n"
            ]
        },
        {
            "cell_type": "code",
            "execution_count": null,
            "metadata": {},
            "outputs": [],
            "source": []
        },
        {
            "cell_type": "code",
            "execution_count": null,
            "metadata": {},
            "outputs": [],
            "source": [
                "pcd.estimate_normals()\n",
                "o3d.visualization.draw_geometries([pcd], point_show_normal=True)"
            ]
        },
        {
            "cell_type": "code",
            "execution_count": null,
            "metadata": {},
            "outputs": [],
            "source": [
                "pcd.orient_normals_consistent_tangent_plane(100)\n",
                "o3d.visualization.draw_geometries([pcd], point_show_normal=True)"
            ]
        },
        {
            "cell_type": "code",
            "execution_count": null,
            "metadata": {},
            "outputs": [],
            "source": [
                "print('run Poisson surface reconstruction')\n",
                "with o3d.utility.VerbosityContextManager(\n",
                "        o3d.utility.VerbosityLevel.Debug) as cm:\n",
                "    mesh, densities = o3d.geometry.TriangleMesh.create_from_point_cloud_poisson(\n",
                "        pcd, depth=7)\n",
                "print(mesh)\n",
                "o3d.visualization.draw_geometries([mesh],\n",
                "                                  zoom=0.664,\n",
                "                                  front=[-0.4761, -0.4698, -0.7434],\n",
                "                                  lookat=[1.8900, 3.2596, 0.9284],\n",
                "                                  up=[0.2304, -0.8825, 0.4101])"
            ]
        },
        {
            "cell_type": "code",
            "execution_count": null,
            "metadata": {},
            "outputs": [],
            "source": [
                "o3d.io.write_triangle_mesh(\"test_mesh_poss_15.ply\", mesh)"
            ]
        },
        {
            "cell_type": "code",
            "execution_count": null,
            "metadata": {},
            "outputs": [],
            "source": [
                "alpha = 5\n",
                "print(f\"alpha={alpha:.3f}\")\n",
                "mesh = o3d.geometry.TriangleMesh.create_from_point_cloud_alpha_shape(pcd, alpha)\n",
                "mesh.compute_vertex_normals()\n",
                "o3d.visualization.draw_geometries([mesh], mesh_show_back_face=True)"
            ]
        },
        {
            "cell_type": "code",
            "execution_count": null,
            "metadata": {},
            "outputs": [],
            "source": [
                "\n",
                "\n",
                "import open3d as o3d\n",
                "import numpy as np\n",
                "pcd = o3d.io.read_point_cloud(pointcloud_folder+'/'+sub_folder+'/best_iou_after_offset.pcd')\n",
                "\n",
                "pcd.paint_uniform_color([0,0,0])\n",
                "\n",
                "print(':',np.array(pcd.points).shape[0])\n",
                "o3d.visualization.draw_geometries([pcd])\n",
                "cl,index = pcd.remove_statistical_outlier(nb_neighbors = 100,std_ratio= 1.0)\n",
                "new_cloud = pcd.select_by_index(index)\n",
                "o3d.visualization.draw_geometries([new_cloud])"
            ]
        },
        {
            "cell_type": "code",
            "execution_count": null,
            "metadata": {},
            "outputs": [],
            "source": []
        },
        {
            "cell_type": "code",
            "execution_count": null,
            "metadata": {},
            "outputs": [],
            "source": [
                "\n",
                "pcd = o3d.io.read_point_cloud('0-origin.ply')\n",
                "\n",
                "\n",
                "pcd.estimate_normals()\n",
                "\n",
                "pcd.orient_normals_consistent_tangent_plane(100)\n",
                "\n",
                "with o3d.utility.VerbosityContextManager(\n",
                "        o3d.utility.VerbosityLevel.Debug) as cm:\n",
                "    mesh, densities = o3d.geometry.TriangleMesh.create_from_point_cloud_poisson(\n",
                "        pcd, depth=6, scale=1.0)\n",
                "\n"
            ]
        },
        {
            "cell_type": "code",
            "execution_count": null,
            "metadata": {},
            "outputs": [],
            "source": [
                "file_name = '0-origin.ply'.replace('.ply','_surface.ply')\n",
                "\n",
                "o3d.io.write_triangle_mesh(file_name, mesh)"
            ]
        },
        {
            "cell_type": "code",
            "execution_count": null,
            "metadata": {},
            "outputs": [],
            "source": []
        }
    ],
    "metadata": {
        "kernelspec": {
            "display_name": "paddlepaddle",
            "language": "python",
            "name": "python3"
        },
        "language_info": {
            "codemirror_mode": {
                "name": "ipython",
                "version": 3
            },
            "file_extension": ".py",
            "mimetype": "text/x-python",
            "name": "python",
            "nbconvert_exporter": "python",
            "pygments_lexer": "ipython3",
            "version": "3.9.7"
        },
        "orig_nbformat": 4,
        "vscode": {
            "interpreter": {
                "hash": "02ed89bf9b26ebe2cb927df4938b9da8ccb0ec1ba8a387f05a4701f5ca1362ff"
            }
        }
    },
    "nbformat": 4,
    "nbformat_minor": 2
}