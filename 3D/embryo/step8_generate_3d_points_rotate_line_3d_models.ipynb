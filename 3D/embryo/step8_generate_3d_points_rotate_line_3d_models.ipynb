{
    "cells": [
        {
            "cell_type": "code",
            "execution_count": null,
            "metadata": {},
            "outputs": [],
            "source": [
                "import numpy as np\n",
                "import cv2\n",
                "import os\n",
                "import open3d as o3d\n",
                "\n",
                "sub_folders = os.listdir('./')\n",
                "\n",
                "print(sub_folders)"
            ]
        },
        {
            "cell_type": "code",
            "execution_count": null,
            "metadata": {},
            "outputs": [],
            "source": [
                "\n",
                "\n",
                "import math\n",
                "import open3d as o3d\n",
                "from copy import deepcopy\n",
                "\n",
                "\n",
                "for sub_folder in sub_folders:\n",
                "\n",
                "    if sub_folder.endswith('origin.ply'):\n",
                "\n",
                "        \n",
                "        \n",
                "        if '13' in sub_folder or '19' in sub_folder or '20' in sub_folder or '24' in sub_folder:\n",
                "            continue\n",
                "\n",
                "        \n",
                "        \n",
                "        print(sub_folder)\n",
                "\n",
                "        pcd = o3d.io.read_point_cloud(sub_folder)\n",
                "\n",
                "        pcd.estimate_normals()\n",
                "\n",
                "        pcd.orient_normals_consistent_tangent_plane(100)\n",
                "\n",
                "        with o3d.utility.VerbosityContextManager(\n",
                "                o3d.utility.VerbosityLevel.Debug) as cm:\n",
                "            mesh, densities = o3d.geometry.TriangleMesh.create_from_point_cloud_poisson(\n",
                "                pcd, depth=7)\n",
                "\n",
                "        file_name = sub_folder.replace('.ply','_surface.ply')\n",
                "        o3d.io.write_triangle_mesh(file_name, mesh)\n"
            ]
        },
        {
            "cell_type": "code",
            "execution_count": null,
            "metadata": {},
            "outputs": [],
            "source": [
                "\n",
                "\n",
                "import math\n",
                "import open3d as o3d\n",
                "from copy import deepcopy\n",
                "\n",
                "\n",
                "for sub_folder in sub_folders:\n",
                "\n",
                "    if sub_folder.endswith('origin.ply'):\n",
                "\n",
                "        \n",
                "        \n",
                "        if '13' in sub_folder or '19' in sub_folder or '20' in sub_folder or '24' in sub_folder:\n",
                "            continue\n",
                "\n",
                "        \n",
                "        \n",
                "        print(sub_folder)\n",
                "\n",
                "\n",
                "        pcd = o3d.io.read_point_cloud(sub_folder)\n",
                "\n",
                "        cl,index = pcd.remove_statistical_outlier(nb_neighbors = 50,std_ratio= 1.0)\n",
                "        pcd = pcd.select_by_index(index)\n",
                "\n",
                "        \n",
                "\n",
                "        pcd.estimate_normals()\n",
                "\n",
                "        pcd.orient_normals_consistent_tangent_plane(100)\n",
                "\n",
                "        with o3d.utility.VerbosityContextManager(\n",
                "                o3d.utility.VerbosityLevel.Debug) as cm:\n",
                "            mesh, densities = o3d.geometry.TriangleMesh.create_from_point_cloud_poisson(\n",
                "                pcd, depth=7)\n",
                "\n",
                "        file_name = sub_folder.replace('.ply','_filter_surface.ply')\n",
                "        o3d.io.write_triangle_mesh(file_name, mesh)\n"
            ]
        },
        {
            "cell_type": "code",
            "execution_count": null,
            "metadata": {},
            "outputs": [],
            "source": [
                "\n",
                "\n",
                "import math\n",
                "import open3d as o3d\n",
                "from copy import deepcopy\n",
                "\n",
                "\n",
                "for sub_folder in sub_folders:\n",
                "\n",
                "    if sub_folder.endswith('tietu.ply'):\n",
                "\n",
                "        \n",
                "        \n",
                "        if '13' in sub_folder or '19' in sub_folder or '20' in sub_folder or '24' in sub_folder:\n",
                "            continue\n",
                "\n",
                "        \n",
                "        \n",
                "        print(sub_folder)\n",
                "\n",
                "\n",
                "        pcd = o3d.io.read_point_cloud(sub_folder)\n",
                "\n",
                "        cl,index = pcd.remove_statistical_outlier(nb_neighbors = 50,std_ratio= 1.0)\n",
                "        pcd = pcd.select_by_index(index)\n",
                "\n",
                "        \n",
                "\n",
                "        pcd.estimate_normals()\n",
                "\n",
                "        pcd.orient_normals_consistent_tangent_plane(100)\n",
                "\n",
                "        with o3d.utility.VerbosityContextManager(\n",
                "                o3d.utility.VerbosityLevel.Debug) as cm:\n",
                "            mesh, densities = o3d.geometry.TriangleMesh.create_from_point_cloud_poisson(\n",
                "                pcd, depth=7)\n",
                "\n",
                "        file_name = sub_folder.replace('.ply','_filter_surface.ply')\n",
                "        o3d.io.write_triangle_mesh(file_name, mesh)\n"
            ]
        },
        {
            "cell_type": "code",
            "execution_count": null,
            "metadata": {},
            "outputs": [],
            "source": [
                "\n",
                "import math\n",
                "import open3d as o3d\n",
                "from copy import deepcopy\n",
                "\n",
                "\n",
                "for sub_folder in sub_folders:\n",
                "\n",
                "    if sub_folder.endswith('origin.ply'):\n",
                "\n",
                "        \n",
                "        \n",
                "        if '13' in sub_folder or '19' in sub_folder or '20' in sub_folder or '24' in sub_folder:\n",
                "            continue\n",
                "\n",
                "        \n",
                "        \n",
                "        print(sub_folder)\n",
                "\n",
                "        pcd = o3d.io.read_point_cloud(sub_folder)\n",
                "\n",
                "        cl,index = pcd.remove_statistical_outlier(nb_neighbors = 50,std_ratio= 1.0)\n",
                "        pcd = pcd.select_by_index(index)\n",
                "\n",
                "        pcd.estimate_normals()\n",
                "\n",
                "        pcd.orient_normals_consistent_tangent_plane(100)\n",
                "\n",
                "        with o3d.utility.VerbosityContextManager(\n",
                "                o3d.utility.VerbosityLevel.Debug) as cm:\n",
                "            mesh, densities = o3d.geometry.TriangleMesh.create_from_point_cloud_poisson(\n",
                "                pcd, depth=6)\n",
                "\n",
                "        file_name = sub_folder.replace('.ply','_surface_smooth.ply')\n",
                "        o3d.io.write_triangle_mesh(file_name, mesh)\n"
            ]
        },
        {
            "cell_type": "code",
            "execution_count": null,
            "metadata": {},
            "outputs": [],
            "source": []
        },
        {
            "cell_type": "code",
            "execution_count": null,
            "metadata": {},
            "outputs": [],
            "source": [
                "pcd.estimate_normals()\n",
                "o3d.visualization.draw_geometries([pcd], point_show_normal=True)"
            ]
        },
        {
            "cell_type": "code",
            "execution_count": null,
            "metadata": {},
            "outputs": [],
            "source": [
                "pcd.orient_normals_consistent_tangent_plane(100)\n",
                "o3d.visualization.draw_geometries([pcd], point_show_normal=True)"
            ]
        },
        {
            "cell_type": "code",
            "execution_count": null,
            "metadata": {},
            "outputs": [],
            "source": [
                "print('run Poisson surface reconstruction')\n",
                "with o3d.utility.VerbosityContextManager(\n",
                "        o3d.utility.VerbosityLevel.Debug) as cm:\n",
                "    mesh, densities = o3d.geometry.TriangleMesh.create_from_point_cloud_poisson(\n",
                "        pcd, depth=7)\n",
                "print(mesh)\n",
                "o3d.visualization.draw_geometries([mesh],\n",
                "                                  zoom=0.664,\n",
                "                                  front=[-0.4761, -0.4698, -0.7434],\n",
                "                                  lookat=[1.8900, 3.2596, 0.9284],\n",
                "                                  up=[0.2304, -0.8825, 0.4101])"
            ]
        },
        {
            "cell_type": "code",
            "execution_count": null,
            "metadata": {},
            "outputs": [],
            "source": [
                "o3d.io.write_triangle_mesh(\"test_mesh_poss_15.ply\", mesh)"
            ]
        },
        {
            "cell_type": "code",
            "execution_count": null,
            "metadata": {},
            "outputs": [],
            "source": [
                "alpha = 5\n",
                "print(f\"alpha={alpha:.3f}\")\n",
                "mesh = o3d.geometry.TriangleMesh.create_from_point_cloud_alpha_shape(pcd, alpha)\n",
                "mesh.compute_vertex_normals()\n",
                "o3d.visualization.draw_geometries([mesh], mesh_show_back_face=True)"
            ]
        },
        {
            "cell_type": "code",
            "execution_count": null,
            "metadata": {},
            "outputs": [],
            "source": [
                "\n",
                "\n",
                "import open3d as o3d\n",
                "import numpy as np\n",
                "pcd = o3d.io.read_point_cloud('1st-_origin.ply')\n",
                "\n",
                "pcd.paint_uniform_color([0,0,0])\n",
                "\n",
                "print(':',np.array(pcd.points).shape[0])\n",
                "o3d.visualization.draw_geometries([pcd])\n",
                "cl,index = pcd.remove_statistical_outlier(nb_neighbors = 50,std_ratio= 1.0)\n",
                "new_cloud = pcd.select_by_index(index)\n",
                "o3d.visualization.draw_geometries([new_cloud])"
            ]
        },
        {
            "cell_type": "code",
            "execution_count": null,
            "metadata": {},
            "outputs": [],
            "source": []
        },
        {
            "cell_type": "code",
            "execution_count": null,
            "metadata": {},
            "outputs": [],
            "source": [
                "\n",
                "pcd = o3d.io.read_point_cloud('0-origin.ply')\n",
                "\n",
                "\n",
                "pcd.estimate_normals()\n",
                "\n",
                "pcd.orient_normals_consistent_tangent_plane(100)\n",
                "\n",
                "with o3d.utility.VerbosityContextManager(\n",
                "        o3d.utility.VerbosityLevel.Debug) as cm:\n",
                "    mesh, densities = o3d.geometry.TriangleMesh.create_from_point_cloud_poisson(\n",
                "        pcd, depth=6, scale=1.0)\n",
                "\n"
            ]
        },
        {
            "cell_type": "code",
            "execution_count": null,
            "metadata": {},
            "outputs": [],
            "source": [
                "file_name = '0-origin.ply'.replace('.ply','_surface.ply')\n",
                "\n",
                "o3d.io.write_triangle_mesh(file_name, mesh)"
            ]
        },
        {
            "cell_type": "code",
            "execution_count": null,
            "metadata": {},
            "outputs": [],
            "source": []
        }
    ],
    "metadata": {
        "kernelspec": {
            "display_name": "paddlepaddle",
            "language": "python",
            "name": "python3"
        },
        "language_info": {
            "codemirror_mode": {
                "name": "ipython",
                "version": 3
            },
            "file_extension": ".py",
            "mimetype": "text/x-python",
            "name": "python",
            "nbconvert_exporter": "python",
            "pygments_lexer": "ipython3",
            "version": "3.9.7"
        },
        "orig_nbformat": 4,
        "vscode": {
            "interpreter": {
                "hash": "02ed89bf9b26ebe2cb927df4938b9da8ccb0ec1ba8a387f05a4701f5ca1362ff"
            }
        }
    },
    "nbformat": 4,
    "nbformat_minor": 2
}